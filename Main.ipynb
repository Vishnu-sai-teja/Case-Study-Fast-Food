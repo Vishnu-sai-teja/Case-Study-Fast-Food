{
 "cells": [
  {
   "cell_type": "markdown",
   "id": "a4310d81-41ec-4830-8b89-629798161a6f",
   "metadata": {},
   "source": [
    "#                                       Market segmentation analysis"
   ]
  },
  {
   "cell_type": "markdown",
   "id": "714839a3-d721-4554-be81-9c61f3f176f1",
   "metadata": {},
   "source": [
    "##  1.  Deciding (not) to Segment"
   ]
  },
  {
   "cell_type": "markdown",
   "id": "daa68333-8dc3-41ab-8023-8b59ba72f57b",
   "metadata": {},
   "source": [
    "McDonald’s can take the position that it caters to the entire market and that there is no need to understand systematic differences across market segments. Alternatively, McDonald’s can take the position that, despite their market power, there is value in investigating systematic heterogeneity among consumers and harvest these differences using a differentiated marketing strategy.\n",
    "\n",
    "----"
   ]
  },
  {
   "cell_type": "markdown",
   "id": "cce8b7a7-b08c-444c-9a1f-e831046d5c5e",
   "metadata": {},
   "source": [
    "## 2. Specifying the Ideal Target Segment"
   ]
  },
  {
   "cell_type": "markdown",
   "id": "42de9a91-8c96-47a9-9739-896a46385ded",
   "metadata": {},
   "source": [
    "McDonald's management needs to decide which key features make a market attractive to them. These include homogeneous, distinct, large enough to justify a customised marketing mix, open to eating at fast food restaurants, identifiable, reachable, and positive perception of McDonald's. To solidify their position in market segments, they may want to learn more about market segments which are not fond of McDonald's and attempt to modify those perceptions."
   ]
  },
  {
   "cell_type": "markdown",
   "id": "4401eb1e-97ce-4948-9bdd-ff7eff9c6d3d",
   "metadata": {},
   "source": [
    "## 3. Collecting Data"
   ]
  },
  {
   "cell_type": "markdown",
   "id": "0d15acb2-fcf3-4de6-b858-3a83db927c31",
   "metadata": {},
   "source": [
    "The data set contains responses from 1453 adult Australian consumers relating to their perceptions of McDonald's with respect to the following attributes: YUMMY, CONVENIENT, SPICY, FATTENING, GREASY, FAST, CHEAP, TASTY, EXPENSIVE, HEALTHY, and DISGUSTING. For each of those attributes, respondents provided either a YES or NO response. Additionally, respondents indicated their age and gender. Had this data been collected for a real market segmentation study, additional information would have been collected to enable the development of a richer and more detailed description of each market segment.\n",
    "\n",
    "----"
   ]
  },
  {
   "cell_type": "markdown",
   "id": "13567dde-0952-4e25-9cf9-8c8bf8631ff2",
   "metadata": {},
   "source": [
    "## 4.Exploring Data\n"
   ]
  },
  {
   "cell_type": "code",
   "execution_count": 19,
   "id": "11f4d9f3-3257-444a-8d0d-113100b9386a",
   "metadata": {},
   "outputs": [],
   "source": [
    "import numpy as np\n",
    "import pandas as pd\n",
    "import matplotlib.pyplot as plt\n",
    "import seaborn as sns"
   ]
  },
  {
   "cell_type": "code",
   "execution_count": 20,
   "id": "d4492912-6aaf-41a4-b9b0-7ecbbee00d74",
   "metadata": {},
   "outputs": [],
   "source": [
    "dframe = pd.read_csv('mcdonalds.csv')"
   ]
  },
  {
   "cell_type": "code",
   "execution_count": 21,
   "id": "05e729ea-5013-4788-9ecb-2cde990d7b2a",
   "metadata": {},
   "outputs": [
    {
     "data": {
      "text/html": [
       "<div>\n",
       "<style scoped>\n",
       "    .dataframe tbody tr th:only-of-type {\n",
       "        vertical-align: middle;\n",
       "    }\n",
       "\n",
       "    .dataframe tbody tr th {\n",
       "        vertical-align: top;\n",
       "    }\n",
       "\n",
       "    .dataframe thead th {\n",
       "        text-align: right;\n",
       "    }\n",
       "</style>\n",
       "<table border=\"1\" class=\"dataframe\">\n",
       "  <thead>\n",
       "    <tr style=\"text-align: right;\">\n",
       "      <th></th>\n",
       "      <th>yummy</th>\n",
       "      <th>convenient</th>\n",
       "      <th>spicy</th>\n",
       "      <th>fattening</th>\n",
       "      <th>greasy</th>\n",
       "      <th>fast</th>\n",
       "      <th>cheap</th>\n",
       "      <th>tasty</th>\n",
       "      <th>expensive</th>\n",
       "      <th>healthy</th>\n",
       "      <th>disgusting</th>\n",
       "      <th>Like</th>\n",
       "      <th>Age</th>\n",
       "      <th>VisitFrequency</th>\n",
       "      <th>Gender</th>\n",
       "    </tr>\n",
       "  </thead>\n",
       "  <tbody>\n",
       "    <tr>\n",
       "      <th>0</th>\n",
       "      <td>No</td>\n",
       "      <td>Yes</td>\n",
       "      <td>No</td>\n",
       "      <td>Yes</td>\n",
       "      <td>No</td>\n",
       "      <td>Yes</td>\n",
       "      <td>Yes</td>\n",
       "      <td>No</td>\n",
       "      <td>Yes</td>\n",
       "      <td>No</td>\n",
       "      <td>No</td>\n",
       "      <td>-3</td>\n",
       "      <td>61</td>\n",
       "      <td>Every three months</td>\n",
       "      <td>Female</td>\n",
       "    </tr>\n",
       "    <tr>\n",
       "      <th>1</th>\n",
       "      <td>Yes</td>\n",
       "      <td>Yes</td>\n",
       "      <td>No</td>\n",
       "      <td>Yes</td>\n",
       "      <td>Yes</td>\n",
       "      <td>Yes</td>\n",
       "      <td>Yes</td>\n",
       "      <td>Yes</td>\n",
       "      <td>Yes</td>\n",
       "      <td>No</td>\n",
       "      <td>No</td>\n",
       "      <td>+2</td>\n",
       "      <td>51</td>\n",
       "      <td>Every three months</td>\n",
       "      <td>Female</td>\n",
       "    </tr>\n",
       "    <tr>\n",
       "      <th>2</th>\n",
       "      <td>No</td>\n",
       "      <td>Yes</td>\n",
       "      <td>Yes</td>\n",
       "      <td>Yes</td>\n",
       "      <td>Yes</td>\n",
       "      <td>Yes</td>\n",
       "      <td>No</td>\n",
       "      <td>Yes</td>\n",
       "      <td>Yes</td>\n",
       "      <td>Yes</td>\n",
       "      <td>No</td>\n",
       "      <td>+1</td>\n",
       "      <td>62</td>\n",
       "      <td>Every three months</td>\n",
       "      <td>Female</td>\n",
       "    </tr>\n",
       "    <tr>\n",
       "      <th>3</th>\n",
       "      <td>Yes</td>\n",
       "      <td>Yes</td>\n",
       "      <td>No</td>\n",
       "      <td>Yes</td>\n",
       "      <td>Yes</td>\n",
       "      <td>Yes</td>\n",
       "      <td>Yes</td>\n",
       "      <td>Yes</td>\n",
       "      <td>No</td>\n",
       "      <td>No</td>\n",
       "      <td>Yes</td>\n",
       "      <td>+4</td>\n",
       "      <td>69</td>\n",
       "      <td>Once a week</td>\n",
       "      <td>Female</td>\n",
       "    </tr>\n",
       "    <tr>\n",
       "      <th>4</th>\n",
       "      <td>No</td>\n",
       "      <td>Yes</td>\n",
       "      <td>No</td>\n",
       "      <td>Yes</td>\n",
       "      <td>Yes</td>\n",
       "      <td>Yes</td>\n",
       "      <td>Yes</td>\n",
       "      <td>No</td>\n",
       "      <td>No</td>\n",
       "      <td>Yes</td>\n",
       "      <td>No</td>\n",
       "      <td>+2</td>\n",
       "      <td>49</td>\n",
       "      <td>Once a month</td>\n",
       "      <td>Male</td>\n",
       "    </tr>\n",
       "  </tbody>\n",
       "</table>\n",
       "</div>"
      ],
      "text/plain": [
       "  yummy convenient spicy fattening greasy fast cheap tasty expensive healthy  \\\n",
       "0    No        Yes    No       Yes     No  Yes   Yes    No       Yes      No   \n",
       "1   Yes        Yes    No       Yes    Yes  Yes   Yes   Yes       Yes      No   \n",
       "2    No        Yes   Yes       Yes    Yes  Yes    No   Yes       Yes     Yes   \n",
       "3   Yes        Yes    No       Yes    Yes  Yes   Yes   Yes        No      No   \n",
       "4    No        Yes    No       Yes    Yes  Yes   Yes    No        No     Yes   \n",
       "\n",
       "  disgusting Like  Age      VisitFrequency  Gender  \n",
       "0         No   -3   61  Every three months  Female  \n",
       "1         No   +2   51  Every three months  Female  \n",
       "2         No   +1   62  Every three months  Female  \n",
       "3        Yes   +4   69         Once a week  Female  \n",
       "4         No   +2   49        Once a month    Male  "
      ]
     },
     "execution_count": 21,
     "metadata": {},
     "output_type": "execute_result"
    }
   ],
   "source": [
    "dframe.head()"
   ]
  },
  {
   "cell_type": "code",
   "execution_count": 22,
   "id": "3882f5a3-ccbb-43fb-8cb8-3cb204031820",
   "metadata": {},
   "outputs": [
    {
     "data": {
      "text/plain": [
       "list[Index(['yummy', 'convenient', 'spicy', 'fattening', 'greasy', 'fast', 'cheap',\n",
       "       'tasty', 'expensive', 'healthy', 'disgusting', 'Like', 'Age',\n",
       "       'VisitFrequency', 'Gender'],\n",
       "      dtype='object')]"
      ]
     },
     "execution_count": 22,
     "metadata": {},
     "output_type": "execute_result"
    }
   ],
   "source": [
    "list[dframe.columns]"
   ]
  },
  {
   "cell_type": "code",
   "execution_count": 23,
   "id": "9abce510-a6f6-4ead-93ea-95e4b9e42639",
   "metadata": {},
   "outputs": [
    {
     "data": {
      "text/plain": [
       "(1453, 15)"
      ]
     },
     "execution_count": 23,
     "metadata": {},
     "output_type": "execute_result"
    }
   ],
   "source": [
    "dframe.shape"
   ]
  },
  {
   "cell_type": "code",
   "execution_count": 24,
   "id": "417969fe-9c32-4b18-95e1-cce955d30b6f",
   "metadata": {},
   "outputs": [
    {
     "data": {
      "text/html": [
       "<div>\n",
       "<style scoped>\n",
       "    .dataframe tbody tr th:only-of-type {\n",
       "        vertical-align: middle;\n",
       "    }\n",
       "\n",
       "    .dataframe tbody tr th {\n",
       "        vertical-align: top;\n",
       "    }\n",
       "\n",
       "    .dataframe thead th {\n",
       "        text-align: right;\n",
       "    }\n",
       "</style>\n",
       "<table border=\"1\" class=\"dataframe\">\n",
       "  <thead>\n",
       "    <tr style=\"text-align: right;\">\n",
       "      <th></th>\n",
       "      <th>yummy</th>\n",
       "      <th>convenient</th>\n",
       "      <th>spicy</th>\n",
       "      <th>fattening</th>\n",
       "      <th>greasy</th>\n",
       "      <th>fast</th>\n",
       "      <th>cheap</th>\n",
       "      <th>tasty</th>\n",
       "      <th>expensive</th>\n",
       "      <th>healthy</th>\n",
       "      <th>disgusting</th>\n",
       "      <th>Like</th>\n",
       "      <th>Age</th>\n",
       "      <th>VisitFrequency</th>\n",
       "      <th>Gender</th>\n",
       "    </tr>\n",
       "  </thead>\n",
       "  <tbody>\n",
       "    <tr>\n",
       "      <th>0</th>\n",
       "      <td>No</td>\n",
       "      <td>Yes</td>\n",
       "      <td>No</td>\n",
       "      <td>Yes</td>\n",
       "      <td>No</td>\n",
       "      <td>Yes</td>\n",
       "      <td>Yes</td>\n",
       "      <td>No</td>\n",
       "      <td>Yes</td>\n",
       "      <td>No</td>\n",
       "      <td>No</td>\n",
       "      <td>-3</td>\n",
       "      <td>61</td>\n",
       "      <td>Every three months</td>\n",
       "      <td>Female</td>\n",
       "    </tr>\n",
       "    <tr>\n",
       "      <th>1</th>\n",
       "      <td>Yes</td>\n",
       "      <td>Yes</td>\n",
       "      <td>No</td>\n",
       "      <td>Yes</td>\n",
       "      <td>Yes</td>\n",
       "      <td>Yes</td>\n",
       "      <td>Yes</td>\n",
       "      <td>Yes</td>\n",
       "      <td>Yes</td>\n",
       "      <td>No</td>\n",
       "      <td>No</td>\n",
       "      <td>+2</td>\n",
       "      <td>51</td>\n",
       "      <td>Every three months</td>\n",
       "      <td>Female</td>\n",
       "    </tr>\n",
       "    <tr>\n",
       "      <th>2</th>\n",
       "      <td>No</td>\n",
       "      <td>Yes</td>\n",
       "      <td>Yes</td>\n",
       "      <td>Yes</td>\n",
       "      <td>Yes</td>\n",
       "      <td>Yes</td>\n",
       "      <td>No</td>\n",
       "      <td>Yes</td>\n",
       "      <td>Yes</td>\n",
       "      <td>Yes</td>\n",
       "      <td>No</td>\n",
       "      <td>+1</td>\n",
       "      <td>62</td>\n",
       "      <td>Every three months</td>\n",
       "      <td>Female</td>\n",
       "    </tr>\n",
       "  </tbody>\n",
       "</table>\n",
       "</div>"
      ],
      "text/plain": [
       "  yummy convenient spicy fattening greasy fast cheap tasty expensive healthy  \\\n",
       "0    No        Yes    No       Yes     No  Yes   Yes    No       Yes      No   \n",
       "1   Yes        Yes    No       Yes    Yes  Yes   Yes   Yes       Yes      No   \n",
       "2    No        Yes   Yes       Yes    Yes  Yes    No   Yes       Yes     Yes   \n",
       "\n",
       "  disgusting Like  Age      VisitFrequency  Gender  \n",
       "0         No   -3   61  Every three months  Female  \n",
       "1         No   +2   51  Every three months  Female  \n",
       "2         No   +1   62  Every three months  Female  "
      ]
     },
     "execution_count": 24,
     "metadata": {},
     "output_type": "execute_result"
    }
   ],
   "source": [
    "dframe.head(3)"
   ]
  },
  {
   "cell_type": "code",
   "execution_count": 25,
   "id": "0e297584-b526-4f9e-a19a-98a9af4c3dee",
   "metadata": {},
   "outputs": [],
   "source": [
    "data = dframe[dframe.columns[0:11]]"
   ]
  },
  {
   "cell_type": "code",
   "execution_count": 26,
   "id": "64c44eb3-96ad-4f53-9515-d2f38b544ed2",
   "metadata": {},
   "outputs": [],
   "source": [
    "dataModified = data.replace(to_replace = ['Yes','No'],value = [1,0])"
   ]
  },
  {
   "cell_type": "code",
   "execution_count": 27,
   "id": "a22d65e6-2031-4a86-8a68-1e44c96e1909",
   "metadata": {},
   "outputs": [
    {
     "data": {
      "text/plain": [
       "yummy         0.55\n",
       "convenient    0.91\n",
       "spicy         0.09\n",
       "fattening     0.87\n",
       "greasy        0.53\n",
       "fast          0.90\n",
       "cheap         0.60\n",
       "tasty         0.64\n",
       "expensive     0.36\n",
       "healthy       0.20\n",
       "disgusting    0.24\n",
       "dtype: float64"
      ]
     },
     "execution_count": 27,
     "metadata": {},
     "output_type": "execute_result"
    }
   ],
   "source": [
    "round(dataModified.mean(),2)"
   ]
  },
  {
   "cell_type": "code",
   "execution_count": 28,
   "id": "33ca03ad-3b3b-46b8-8479-4858149b0cb9",
   "metadata": {},
   "outputs": [],
   "source": [
    "from sklearn.decomposition import PCA"
   ]
  },
  {
   "cell_type": "code",
   "execution_count": 29,
   "id": "1ff41607-eeac-4965-9b3f-2b916faf7b83",
   "metadata": {},
   "outputs": [],
   "source": [
    "pca = PCA(n_components = 11)\n",
    "X = dataModified\n",
    "principleComponents = pca.fit_transform(X)\n",
    "dframe2 = pd.DataFrame(data = principleComponents,columns = ['PC1', 'PC2', 'PC3','PC4', 'PC5', 'PC6','PC7', 'PC8', 'PC9','PC10', 'PC11'])\n"
   ]
  },
  {
   "cell_type": "code",
   "execution_count": 30,
   "id": "4c1db54c-89e4-4ba1-99bf-452b5d2d81d0",
   "metadata": {},
   "outputs": [
    {
     "data": {
      "text/plain": [
       "PC1     0.7570\n",
       "PC2     0.6075\n",
       "PC3     0.5046\n",
       "PC4     0.3988\n",
       "PC5     0.3374\n",
       "PC6     0.3103\n",
       "PC7     0.2897\n",
       "PC8     0.2751\n",
       "PC9     0.2653\n",
       "PC10    0.2488\n",
       "PC11    0.2369\n",
       "Name: std, dtype: float64"
      ]
     },
     "execution_count": 30,
     "metadata": {},
     "output_type": "execute_result"
    }
   ],
   "source": [
    "#StandardDeviation\n",
    "round(dframe2.describe().loc['std'],4)"
   ]
  },
  {
   "cell_type": "code",
   "execution_count": 31,
   "id": "60a91e42-912b-48ca-8f89-784a48cbdeb0",
   "metadata": {},
   "outputs": [],
   "source": [
    "#Proportion of Variance\n",
    "varianceProportion = pca.explained_variance_ratio_\n",
    "dframe3 = pd.DataFrame(columns=['PC1', 'PC2', 'PC3','PC4', 'PC5', 'PC6','PC7', 'PC8', 'PC9','PC10', 'PC11'],data = varianceProportion.reshape(1,11) )\n"
   ]
  },
  {
   "cell_type": "code",
   "execution_count": 32,
   "id": "f78d5909-3c50-48a8-b094-d3131b873fd2",
   "metadata": {},
   "outputs": [],
   "source": [
    "dframe3.index = ['Proportion of Variance']"
   ]
  },
  {
   "cell_type": "code",
   "execution_count": 33,
   "id": "8698a39b-9966-4f6d-a5cc-dcd13b43ad38",
   "metadata": {},
   "outputs": [
    {
     "data": {
      "text/html": [
       "<div>\n",
       "<style scoped>\n",
       "    .dataframe tbody tr th:only-of-type {\n",
       "        vertical-align: middle;\n",
       "    }\n",
       "\n",
       "    .dataframe tbody tr th {\n",
       "        vertical-align: top;\n",
       "    }\n",
       "\n",
       "    .dataframe thead th {\n",
       "        text-align: right;\n",
       "    }\n",
       "</style>\n",
       "<table border=\"1\" class=\"dataframe\">\n",
       "  <thead>\n",
       "    <tr style=\"text-align: right;\">\n",
       "      <th></th>\n",
       "      <th>PC1</th>\n",
       "      <th>PC2</th>\n",
       "      <th>PC3</th>\n",
       "      <th>PC4</th>\n",
       "      <th>PC5</th>\n",
       "      <th>PC6</th>\n",
       "      <th>PC7</th>\n",
       "      <th>PC8</th>\n",
       "      <th>PC9</th>\n",
       "      <th>PC10</th>\n",
       "      <th>PC11</th>\n",
       "    </tr>\n",
       "  </thead>\n",
       "  <tbody>\n",
       "    <tr>\n",
       "      <th>Proportion of Variance</th>\n",
       "      <td>0.299447</td>\n",
       "      <td>0.192797</td>\n",
       "      <td>0.133045</td>\n",
       "      <td>0.083096</td>\n",
       "      <td>0.059481</td>\n",
       "      <td>0.0503</td>\n",
       "      <td>0.043849</td>\n",
       "      <td>0.039548</td>\n",
       "      <td>0.036761</td>\n",
       "      <td>0.032353</td>\n",
       "      <td>0.029323</td>\n",
       "    </tr>\n",
       "  </tbody>\n",
       "</table>\n",
       "</div>"
      ],
      "text/plain": [
       "                             PC1       PC2       PC3       PC4       PC5  \\\n",
       "Proportion of Variance  0.299447  0.192797  0.133045  0.083096  0.059481   \n",
       "\n",
       "                           PC6       PC7       PC8       PC9      PC10  \\\n",
       "Proportion of Variance  0.0503  0.043849  0.039548  0.036761  0.032353   \n",
       "\n",
       "                            PC11  \n",
       "Proportion of Variance  0.029323  "
      ]
     },
     "execution_count": 33,
     "metadata": {},
     "output_type": "execute_result"
    }
   ],
   "source": [
    "dframe3"
   ]
  },
  {
   "cell_type": "code",
   "execution_count": 34,
   "id": "3b87e76c-7e22-4a20-b19c-4f7e1f168c7e",
   "metadata": {},
   "outputs": [],
   "source": [
    "#Cumulative Proportion\n",
    "cumulativeProportion  = np.cumsum(varianceProportion)\n",
    "dframe4 = pd.DataFrame(columns=['PC1', 'PC2', 'PC3','PC4', 'PC5', 'PC6','PC7', 'PC8', 'PC9','PC10', 'PC11'],data = cumulativeProportion.reshape(1,11) )\n"
   ]
  },
  {
   "cell_type": "code",
   "execution_count": 35,
   "id": "8fdfa0f7-7bce-4d9c-9acb-7752955c4e68",
   "metadata": {},
   "outputs": [],
   "source": [
    "dframe4.index = ['Cumulative Proportion']"
   ]
  },
  {
   "cell_type": "code",
   "execution_count": 36,
   "id": "997e0777-302c-4fab-be06-17c7d251b453",
   "metadata": {},
   "outputs": [
    {
     "data": {
      "text/html": [
       "<div>\n",
       "<style scoped>\n",
       "    .dataframe tbody tr th:only-of-type {\n",
       "        vertical-align: middle;\n",
       "    }\n",
       "\n",
       "    .dataframe tbody tr th {\n",
       "        vertical-align: top;\n",
       "    }\n",
       "\n",
       "    .dataframe thead th {\n",
       "        text-align: right;\n",
       "    }\n",
       "</style>\n",
       "<table border=\"1\" class=\"dataframe\">\n",
       "  <thead>\n",
       "    <tr style=\"text-align: right;\">\n",
       "      <th></th>\n",
       "      <th>PC1</th>\n",
       "      <th>PC2</th>\n",
       "      <th>PC3</th>\n",
       "      <th>PC4</th>\n",
       "      <th>PC5</th>\n",
       "      <th>PC6</th>\n",
       "      <th>PC7</th>\n",
       "      <th>PC8</th>\n",
       "      <th>PC9</th>\n",
       "      <th>PC10</th>\n",
       "      <th>PC11</th>\n",
       "    </tr>\n",
       "  </thead>\n",
       "  <tbody>\n",
       "    <tr>\n",
       "      <th>Cumulative Proportion</th>\n",
       "      <td>0.299447</td>\n",
       "      <td>0.492244</td>\n",
       "      <td>0.62529</td>\n",
       "      <td>0.708386</td>\n",
       "      <td>0.767866</td>\n",
       "      <td>0.818166</td>\n",
       "      <td>0.862015</td>\n",
       "      <td>0.901563</td>\n",
       "      <td>0.938323</td>\n",
       "      <td>0.970677</td>\n",
       "      <td>1.0</td>\n",
       "    </tr>\n",
       "  </tbody>\n",
       "</table>\n",
       "</div>"
      ],
      "text/plain": [
       "                            PC1       PC2      PC3       PC4       PC5  \\\n",
       "Cumulative Proportion  0.299447  0.492244  0.62529  0.708386  0.767866   \n",
       "\n",
       "                            PC6       PC7       PC8       PC9      PC10  PC11  \n",
       "Cumulative Proportion  0.818166  0.862015  0.901563  0.938323  0.970677   1.0  "
      ]
     },
     "execution_count": 36,
     "metadata": {},
     "output_type": "execute_result"
    }
   ],
   "source": [
    "dframe4"
   ]
  },
  {
   "cell_type": "markdown",
   "id": "77933293-cfcb-489a-a121-e2060cc292f9",
   "metadata": {},
   "source": [
    "## 5 . Data Structure Analysis\n"
   ]
  },
  {
   "cell_type": "code",
   "execution_count": 66,
   "id": "04e7ec7e-8ba9-425e-8f5e-0d177fd6e64a",
   "metadata": {},
   "outputs": [
    {
     "data": {
      "image/png": "[encoded data removed]",
      "text/plain": [
       "<Figure size 640x480 with 1 Axes>"
      ]
     },
     "metadata": {},
     "output_type": "display_data"
    },
    {
     "data": {
      "image/png": "[encoded data removed]",
      "text/plain": [
       "<Figure size 640x480 with 1 Axes>"
      ]
     },
     "metadata": {},
     "output_type": "display_data"
    }
   ],
   "source": [
    "pcaResult = pca.transform(dataModified)\n",
    "sns.scatterplot(x = pcaResult[:, 0],y = pcaResult[:, 1],color = 'grey')\n",
    "plt.xlabel(\"First Principal Component (PC1)\")\n",
    "plt.ylabel(\"Second Principal Component (PC2)\")\n",
    "plt.show()\n",
    "\n",
    "\n",
    "PC_values = np.arange(pca.n_components_) + 1\n",
    "plt.plot(PC_values, pca.explained_variance_ratio_, 'o--', linewidth=2, color='red')\n",
    "plt.title('Scree Plot')\n",
    "plt.xlabel('Principal Component')\n",
    "plt.ylabel('Variance Explained')\n",
    "plt.show()"
   ]
  },
  {
   "cell_type": "code",
   "execution_count": 67,
   "id": "e1fa20f8-7b02-4789-9560-25fbca693d48",
   "metadata": {},
   "outputs": [
    {
     "data": {
      "image/png": "[encoded data removed]",
      "text/plain": [
       "<Figure size 640x480 with 1 Axes>"
      ]
     },
     "metadata": {},
     "output_type": "display_data"
    }
   ],
   "source": [
    "X=dataModified\n",
    "from sklearn.cluster import KMeans\n",
    "wcss = []\n",
    "for i in range(1, 11):\n",
    "    kmeans = KMeans(n_clusters = i, init = 'k-means++', random_state = 42)\n",
    "    kmeans.fit(X)\n",
    "    wcss.append(kmeans.inertia_)\n",
    "plt.plot(range(1, 11), wcss)\n",
    "plt.title('The Elbow Method')\n",
    "plt.xlabel('Number of clusters')\n",
    "plt.ylabel('WCSS')\n",
    "plt.show()"
   ]
  },
  {
   "cell_type": "code",
   "execution_count": null,
   "id": "22c456f9-400e-4be7-838d-07ea249883d9",
   "metadata": {},
   "outputs": [],
   "source": []
  },
  {
   "cell_type": "code",
   "execution_count": null,
   "id": "c3525bbe-80d8-4e09-b99f-1885597add92",
   "metadata": {},
   "outputs": [],
   "source": []
  },
  {
   "cell_type": "code",
   "execution_count": null,
   "id": "53937a6d-9ec5-44b4-b77a-c41df3840080",
   "metadata": {},
   "outputs": [],
   "source": []
  }
 ],
 "metadata": {
  "kernelspec": {
   "display_name": "Python 3 (ipykernel)",
   "language": "python",
   "name": "python3"
  },
  "language_info": {
   "codemirror_mode": {
    "name": "ipython",
    "version": 3
   },
   "file_extension": ".py",
   "mimetype": "text/x-python",
   "name": "python",
   "nbconvert_exporter": "python",
   "pygments_lexer": "ipython3",
   "version": "3.9.13"
  }
 },
 "nbformat": 4,
 "nbformat_minor": 5
}
